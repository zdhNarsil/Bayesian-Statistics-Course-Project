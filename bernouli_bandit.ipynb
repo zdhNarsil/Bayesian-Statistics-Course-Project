{
 "cells": [
  {
   "cell_type": "code",
   "execution_count": 9,
   "metadata": {},
   "outputs": [],
   "source": [
    "import numpy as np\n",
    "import matplotlib.pyplot as plt"
   ]
  },
  {
   "cell_type": "code",
   "execution_count": 2,
   "metadata": {},
   "outputs": [],
   "source": [
    "class BernGreedy:\n",
    "    def __init__(self, K):\n",
    "        self.alpha = np.ones(K)\n",
    "        self.beta = np.ones(K)\n",
    "        \n",
    "    def act(self,):\n",
    "        theta_hat = self.alpha / (self.alpha + self.beta)\n",
    "        return np.argmax(theta_hat) # an integer\n",
    "        \n",
    "    def update(self, k, r):\n",
    "        self.alpha[k] += r\n",
    "        self.beta[k] += 1-r\n",
    "        \n",
    "class BernThompson:\n",
    "    def __init__(self, K):\n",
    "        self.alpha = np.ones(K)\n",
    "        self.beta = np.ones(K)\n",
    "        \n",
    "    def act(self,):\n",
    "        theta_hat = np.random.beta(self.alpha, self.beta)\n",
    "        return np.argmax(theta_hat) # an integer\n",
    "        \n",
    "    def update(self, k, r):\n",
    "        self.alpha[k] += r\n",
    "        self.beta[k] += 1-r"
   ]
  },
  {
   "cell_type": "code",
   "execution_count": 3,
   "metadata": {},
   "outputs": [],
   "source": [
    "class BernouliBandit:\n",
    "    def __init__(self, T=100, K=10, theta=None):\n",
    "        self.T = T\n",
    "        self.K = K  # K arms\n",
    "        if theta is None:\n",
    "            self.theta = np.random.rand(K)\n",
    "        else:\n",
    "            self.theta = theta\n",
    "        self.greedy_regrets = np.zeros(T)\n",
    "        self.ts_regrets = np.zeros(T)\n",
    "    \n",
    "    def apply(self, k):\n",
    "        r = np.random.binomial(1, self.theta[k])\n",
    "        return r\n",
    "    \n",
    "    def run(self):\n",
    "        greedy_player = BernGreedy(self.K)\n",
    "        ts_player = BernThompson(self.K)\n",
    "        \n",
    "        optimal_r = 1\n",
    "        for t in range(self.T):\n",
    "            greedy_k = greedy_player.act()\n",
    "            greedy_r = self.apply(greedy_k)\n",
    "            greedy_player.update(greedy_k, greedy_r)\n",
    "            \n",
    "            ts_k = ts_player.act()\n",
    "            ts_r = self.apply(ts_k)\n",
    "            ts_player.update(ts_k, ts_r)\n",
    "            \n",
    "            if t>0:\n",
    "                self.greedy_regrets[t] = self.greedy_regrets[t-1] + optimal_r - greedy_r\n",
    "                self.ts_regrets[t] = self.ts_regrets[t-1] + optimal_r - ts_r\n",
    "            else:\n",
    "                self.greedy_regrets[t] = optimal_r - greedy_r\n",
    "                self.ts_regrets[t] = optimal_r - ts_r\n",
    "        \n",
    "    def eval_plot(self):\n",
    "        plt.figure()\n",
    "        plt.plot(self.greedy_regrets, 'r', label='greedy')\n",
    "        plt.plot(self.ts_regrets,'g', label='thompson sample')\n",
    "        plt.legend()\n",
    "        plt.xlabel('Time steps')\n",
    "        plt.ylabel('Cumulative regrets')"
   ]
  },
  {
   "cell_type": "code",
   "execution_count": 11,
   "metadata": {},
   "outputs": [
    {
     "data": {
      "image/png": "[encoded data removed]",
      "text/plain": [
       "<Figure size 432x288 with 1 Axes>"
      ]
     },
     "metadata": {
      "needs_background": "light"
     },
     "output_type": "display_data"
    }
   ],
   "source": [
    "np.random.seed(10000)\n",
    "\n",
    "berbandit = BernouliBandit(T=1000)\n",
    "berbandit.run()\n",
    "berbandit.eval_plot()"
   ]
  },
  {
   "cell_type": "code",
   "execution_count": null,
   "metadata": {},
   "outputs": [],
   "source": []
  }
 ],
 "metadata": {
  "kernelspec": {
   "display_name": "Python 3",
   "language": "python",
   "name": "python3"
  },
  "language_info": {
   "codemirror_mode": {
    "name": "ipython",
    "version": 3
   },
   "file_extension": ".py",
   "mimetype": "text/x-python",
   "name": "python",
   "nbconvert_exporter": "python",
   "pygments_lexer": "ipython3",
   "version": "3.6.8"
  }
 },
 "nbformat": 4,
 "nbformat_minor": 2
}
